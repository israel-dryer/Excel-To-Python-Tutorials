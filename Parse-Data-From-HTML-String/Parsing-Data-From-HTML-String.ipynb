{
 "cells": [
  {
   "cell_type": "markdown",
   "metadata": {},
   "source": [
    "# Excel to Python - Parsing data from an HTML string"
   ]
  },
  {
   "cell_type": "markdown",
   "metadata": {},
   "source": [
    "## overview\n",
    "In this notebook, I'm going to **demonstrate one way to solve a problem in Python** that was originally posted in an Excel forum. \n",
    "\n",
    "I've already **created a video** on this Excel question which you can watch [here]('https://youtu.be/wxkpc6S468M').\n",
    "\n",
    "The intent is to **give you some ideas and inspiration** for solving problem in Python if you have traditionally worked exclusively in Excel. \n",
    "One of the hardest parts of that transition... if you didn't start out as a programmer... is finding ways to apply those programming skills to your everyday work. Hence, this notebook. This is by no means the best way to solve this problem. But, it **requires no fancy libraries** outside of what comes prepackaged with Python, so you won't need to learn another library to use this process. As with Excel, there are many, many ways to solve a problem in Python, and this is just one."
   ]
  },
  {
   "cell_type": "markdown",
   "metadata": {},
   "source": [
    "## the problem\n",
    "The original post asked for the color to be parsed from the string of HTML tagged data. In the video linked above, I demonstrated that using simple Excel commands gave a far more robust and efficient solution to the problem, which is shown in the spreadsheet image below. This is the output that I'm going to replicate in this post."
   ]
  },
  {
   "cell_type": "markdown",
   "metadata": {},
   "source": [
    "![image](extract_text_from_cell_question.PNG)"
   ]
  },
  {
   "cell_type": "markdown",
   "metadata": {},
   "source": [
    "![image](extract_text_from_cell_solution.PNG)"
   ]
  },
  {
   "cell_type": "markdown",
   "metadata": {},
   "source": [
    "## import libraries and data"
   ]
  },
  {
   "cell_type": "code",
   "execution_count": 100,
   "metadata": {},
   "outputs": [],
   "source": [
    "# library used to read and write csv files\n",
    "import csv"
   ]
  },
  {
   "cell_type": "code",
   "execution_count": 101,
   "metadata": {},
   "outputs": [],
   "source": [
    "# data stored in csv format\n",
    "with open('data.csv','r') as csvfile:\n",
    "    reader = csv.reader(csvfile, delimiter=',')\n",
    "    data = [row[0] for row in reader]"
   ]
  },
  {
   "cell_type": "markdown",
   "metadata": {},
   "source": [
    "I'm going to inspect the first and last 5 records just to see what it looks like after the import."
   ]
  },
  {
   "cell_type": "code",
   "execution_count": 90,
   "metadata": {},
   "outputs": [
    {
     "data": {
      "text/plain": [
       "['ï»¿\"<p>4\"\" Heel Peep Toe Slide</p> <ul> <li>Color: Gold Metallic Pu</li> <li>Fit Guide: True to Size</li>\"',\n",
       " '<p>4\" Heel Peep Toe Slide</p> <ul> <li>Color: Red Metallic Pu</li> <li>Fit Guide: True to Size</li>',\n",
       " '<p>4\" Heel Peep Toe Slide</p> <ul> <li>Color: Blue Metallic Pu</li> <li>Fit Guide: True to Size</li>',\n",
       " '<p>4\" Heel Peep Toe Slide</p> <ul> <li>Color: Silver Metallic Pu</li> <li>Fit Guide: True to Size</li>',\n",
       " '<p>4\" Heel Peep Toe Slide</p> <ul> <li>Color: Green Metallic Pu</li> <li>Fit Guide: True to Size</li>']"
      ]
     },
     "execution_count": 90,
     "metadata": {},
     "output_type": "execute_result"
    }
   ],
   "source": [
    "data[:5]"
   ]
  },
  {
   "cell_type": "markdown",
   "metadata": {},
   "source": [
    "Everything looks ok, so I'm going to start cleaning up the data"
   ]
  },
  {
   "cell_type": "markdown",
   "metadata": {},
   "source": [
    "## cleaning the data\n",
    "Since I'm going to replace several things in the string, I'm going to **define a function** that will take a list as a argument so I can perform all the cleaning at once instead of typing the same code over and cover again (this is usually the reason to create a function)."
   ]
  },
  {
   "cell_type": "code",
   "execution_count": 91,
   "metadata": {},
   "outputs": [],
   "source": [
    "def clean(text):\n",
    "    for i in range(len(data)):\n",
    "        data[i] = data[i].replace(text, '')"
   ]
  },
  {
   "cell_type": "markdown",
   "metadata": {},
   "source": [
    "Next I'm going to **create a list of clean-up items** that I will pass into clean function."
   ]
  },
  {
   "cell_type": "code",
   "execution_count": 92,
   "metadata": {},
   "outputs": [],
   "source": [
    "things_to_clean = ['\"','<p>','</p>','<ul>','</ul>','<li>','</li>','ï»¿']\n",
    "\n",
    "for thing in things_to_clean:\n",
    "    clean(thing)"
   ]
  },
  {
   "cell_type": "markdown",
   "metadata": {},
   "source": [
    "Next, I'm going to **split each row** using the split() method. This is exactly like using the **Text to Columns** command in Excel."
   ]
  },
  {
   "cell_type": "code",
   "execution_count": 93,
   "metadata": {},
   "outputs": [],
   "source": [
    "for i in range(len(data)):\n",
    "    data[i] = data[i].split(':')"
   ]
  },
  {
   "cell_type": "markdown",
   "metadata": {},
   "source": [
    "I can now **remove the column names**: _Color_ and _Fit Guide_"
   ]
  },
  {
   "cell_type": "code",
   "execution_count": 94,
   "metadata": {},
   "outputs": [],
   "source": [
    "for i in range(len(data)):\n",
    "    data[i][0] = data[i][0].replace('  Color','')\n",
    "    \n",
    "for i in range(len(data)):\n",
    "    data[i][1] = data[i][1].replace(' Fit Guide','')    "
   ]
  },
  {
   "cell_type": "markdown",
   "metadata": {},
   "source": [
    "Finally, I'm going to **split the middle column** into the _Color_, _Finish_, and _Material_ columns.\n",
    "\n",
    "Since the split function creates a list, I am going to **bracket the strings in a list so that I can concatenate them** with the list that the split function creates. If I don't do this, then I'm going to end up with a list inside of a list for each row.\n",
    "\n",
    "Also, I can **remove the leading space** in the final column with the strip string method."
   ]
  },
  {
   "cell_type": "code",
   "execution_count": 95,
   "metadata": {},
   "outputs": [],
   "source": [
    "for i in range(len(data)):\n",
    "    data[i] = [data[i][0]] + data[i][1][1:].split(' ') + [data[i][2].strip()]"
   ]
  },
  {
   "cell_type": "markdown",
   "metadata": {},
   "source": [
    "Now I can **inspect the first 10 records** to see the results of the cleanup exercise."
   ]
  },
  {
   "cell_type": "code",
   "execution_count": 96,
   "metadata": {},
   "outputs": [
    {
     "data": {
      "text/plain": [
       "[['4 Heel Peep Toe Slide', 'Gold', 'Metallic', 'Pu', 'True to Size'],\n",
       " ['4 Heel Peep Toe Slide', 'Red', 'Metallic', 'Pu', 'True to Size'],\n",
       " ['4 Heel Peep Toe Slide', 'Blue', 'Metallic', 'Pu', 'True to Size'],\n",
       " ['4 Heel Peep Toe Slide', 'Silver', 'Metallic', 'Pu', 'True to Size'],\n",
       " ['4 Heel Peep Toe Slide', 'Green', 'Metallic', 'Pu', 'True to Size'],\n",
       " ['4 Heel Peep Toe Slide', 'Gold', 'Metallic', 'Pu', 'True to Size'],\n",
       " ['4 Heel Peep Toe Slide', 'Red', 'Metallic', 'Pu', 'True to Size'],\n",
       " ['4 Heel Peep Toe Slide', 'Blue', 'Metallic', 'Pu', 'True to Size'],\n",
       " ['4 Heel Peep Toe Slide', 'Silver', 'Metallic', 'Pu', 'True to Size'],\n",
       " ['4 Heel Peep Toe Slide', 'Green', 'Metallic', 'Pu', 'True to Size']]"
      ]
     },
     "execution_count": 96,
     "metadata": {},
     "output_type": "execute_result"
    }
   ],
   "source": [
    "data[:10]"
   ]
  },
  {
   "cell_type": "markdown",
   "metadata": {},
   "source": [
    "## export the data\n",
    "You can choose to analyze the data a python notebook, or you can send it back to a csv file, database, excel file, etc... In this case, I'm going to write it to a CSV file."
   ]
  },
  {
   "cell_type": "code",
   "execution_count": 99,
   "metadata": {},
   "outputs": [],
   "source": [
    "with open('data_updated.csv', 'w', newline='') as csvfile:\n",
    "    writer = csv.writer(csvfile, delimiter = ',')\n",
    "    for row in data:\n",
    "        writer.writerow(row)"
   ]
  },
  {
   "cell_type": "markdown",
   "metadata": {},
   "source": [
    "![image](python_solution.PNG)"
   ]
  }
 ],
 "metadata": {
  "kernelspec": {
   "display_name": "Python 3",
   "language": "python",
   "name": "python3"
  },
  "language_info": {
   "codemirror_mode": {
    "name": "ipython",
    "version": 3
   },
   "file_extension": ".py",
   "mimetype": "text/x-python",
   "name": "python",
   "nbconvert_exporter": "python",
   "pygments_lexer": "ipython3",
   "version": "3.7.3"
  }
 },
 "nbformat": 4,
 "nbformat_minor": 2
}
