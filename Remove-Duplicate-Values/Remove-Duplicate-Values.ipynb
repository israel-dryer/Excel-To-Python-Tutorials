{
 "cells": [
  {
   "cell_type": "markdown",
   "metadata": {},
   "source": [
    "# Excel to Python | Return unique values in each row"
   ]
  },
  {
   "cell_type": "markdown",
   "metadata": {},
   "source": [
    "## overview\n",
    "In this notebook, I'm going to **demonstrate one way to solve a problem in Python** that was originally posted in an Excel forum.\n",
    "\n",
    "The intent is to give you some **ideas and inspiration** for solving problems in Python if you have traditionally worked exclusively in Excel. One of the hardest parts of that transition... if you didn't start out as a programmer... is finding ways to apply those programming skills to your everyday work. Hence, this notebook. This is by no means the best way to solve this problem. But, it **requires no fancy libraries** outside of what comes prepackaged with Python, so you won't need to learn another library to use this process. As with Excel, there are many, many ways to solve a problem in Python, and this is just one.\n",
    "\n",
    "I've included a **references section below** that links to the relevant Python libraries and methods used in this exercise.\n",
    "\n",
    "## why would you want to solve this in Python vs. Excel?\n",
    "Great question! First, you can certainly solve this problem in Excel with a formula. And in fact, VBA is a programatic option if you want to avoid using an Excel formula. However, this is a REALLY easy problem to solve in python that, once you become comfortable solving these kind so of problems, can be scaled to millions of rows and introduced into much more power python libraries such as **numpy** and **pandas** where you can do an incredible amount of cool calculations, manipulations, etc... all in the same environment. And, if you want to export that output into an Excel spreadsheet, that is no problem either.\n",
    "\n",
    "## the problem"
   ]
  },
  {
   "cell_type": "markdown",
   "metadata": {},
   "source": [
    "![image](original-problem.PNG)"
   ]
  },
  {
   "cell_type": "markdown",
   "metadata": {},
   "source": [
    "## the excel solution\n",
    "As explained in the post below, the Excel user needs to return a unique list of values for each row in the data set."
   ]
  },
  {
   "cell_type": "markdown",
   "metadata": {},
   "source": [
    "![image](excel-solution.PNG)"
   ]
  },
  {
   "cell_type": "markdown",
   "metadata": {},
   "source": [
    "## the python solution"
   ]
  },
  {
   "cell_type": "markdown",
   "metadata": {},
   "source": [
    "The original list of numbers as a list of lists"
   ]
  },
  {
   "cell_type": "code",
   "execution_count": 1,
   "metadata": {},
   "outputs": [],
   "source": [
    "numbers = [[8729,1245,9321,8729],\n",
    "           [4236,1829,8729,7845],\n",
    "           [3435,1171,3435,1171]]"
   ]
  },
  {
   "cell_type": "markdown",
   "metadata": {},
   "source": [
    "- Iterate through each row\n",
    "- Count the number of time each element in the row appears in that row\n",
    "- If that element appears more than once, then it is removed\n",
    "\n",
    "The reason that this works with `row.count()` is that when an element is found to have a frequency greater than 1, it is removed. When the 'duplicate' element is counted, it is not counted against the original list, but the updated list without the other matching element, so it is not removed."
   ]
  },
  {
   "cell_type": "code",
   "execution_count": 2,
   "metadata": {},
   "outputs": [],
   "source": [
    "for row in numbers:\n",
    "    for number in row:\n",
    "        if row.count(number)>1:\n",
    "            row.remove(number)"
   ]
  },
  {
   "cell_type": "markdown",
   "metadata": {},
   "source": [
    "Here are the results, which mirror the excel solution."
   ]
  },
  {
   "cell_type": "code",
   "execution_count": 3,
   "metadata": {},
   "outputs": [
    {
     "name": "stdout",
     "output_type": "stream",
     "text": [
      "[1245, 9321, 8729]\n",
      "[4236, 1829, 8729, 7845]\n",
      "[3435, 1171]\n"
     ]
    }
   ],
   "source": [
    "for row in numbers:\n",
    "    print(row)"
   ]
  },
  {
   "cell_type": "markdown",
   "metadata": {},
   "source": [
    "## library reference"
   ]
  },
  {
   "cell_type": "markdown",
   "metadata": {},
   "source": [
    "https://docs.python.org/3.7/tutorial/datastructures.html"
   ]
  }
 ],
 "metadata": {
  "kernelspec": {
   "display_name": "Python 3",
   "language": "python",
   "name": "python3"
  },
  "language_info": {
   "codemirror_mode": {
    "name": "ipython",
    "version": 3
   },
   "file_extension": ".py",
   "mimetype": "text/x-python",
   "name": "python",
   "nbconvert_exporter": "python",
   "pygments_lexer": "ipython3",
   "version": "3.7.3"
  }
 },
 "nbformat": 4,
 "nbformat_minor": 2
}
